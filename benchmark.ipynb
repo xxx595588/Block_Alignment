{
 "cells": [
  {
   "cell_type": "code",
   "execution_count": 11,
   "id": "d79ec019-7391-43c9-b011-fe55600fdd3d",
   "metadata": {},
   "outputs": [],
   "source": [
    "import time\n",
    "import random\n",
    "import matplotlib.pyplot as plt\n",
    "from blockalignment import BlockAlignment\n",
    "random.seed(10)"
   ]
  },
  {
   "cell_type": "code",
   "execution_count": 12,
   "id": "5682af54-d772-4e4a-8cbc-9874345eac06",
   "metadata": {},
   "outputs": [],
   "source": [
    "def global_align(v, w):\n",
    "    \"\"\"\n",
    "    Returns the score of the maximum scoring alignment of the strings v and w, as well as the actual alignment as\n",
    "    computed by traceback_global.\n",
    "\n",
    "    :param: v\n",
    "    :param: w\n",
    "    :param: delta\n",
    "    \"\"\"\n",
    "    keys = ['A', 'C', 'T', 'G', '-']\n",
    "    delta = {}\n",
    "    for i in range(len(keys)):\n",
    "        delta[keys[i]] = {k : v for (k,v) in zip(keys, [1 if keys[i] == keys[j]  else -1 for j in range(len(keys))])}\n",
    "    \n",
    "    for k in keys:\n",
    "        if k != '-':\n",
    "            delta[k]['-'] = -2\n",
    "        else:\n",
    "            delta[k]['A'] = -2\n",
    "            delta[k]['T'] = -2\n",
    "            delta[k]['C'] = -2\n",
    "            delta[k]['G'] = -2\n",
    "\n",
    "    start_time = time.time()\n",
    "    M = [[0 for j in range(len(w)+1)] for i in range(len(v)+1)]\n",
    "    \n",
    "    for col in range(1, len(w)+1):\n",
    "        M[0][col] = delta[w[col-1]]['-'] + M[0][col-1]\n",
    "    for row in range(1, len(v)+1):\n",
    "        M[row][0] = delta[v[row-1]]['-'] + M[row-1][0]\n",
    "\n",
    "    for i in range(1, len(v)+1):\n",
    "        for j in range(1, len(w)+1):\n",
    "            M[i][j] = max(M[i-1][j] + delta['-'][v[i-1]], M[i][j-1] + delta[w[j-1]]['-'], M[i-1][j-1] + delta[w[j-1]][v[i-1]]) \n",
    "                \n",
    "    score = M[-1][-1]\n",
    "\n",
    "    end_time = time.time()\n",
    "    execution_time = end_time - start_time\n",
    "\n",
    "    return score, execution_time"
   ]
  },
  {
   "cell_type": "code",
   "execution_count": 13,
   "id": "53e3e5bd-3080-4da1-aa42-5f5749802e86",
   "metadata": {},
   "outputs": [],
   "source": [
    "size_list = [10, 50, 100, 150, 200, 250, 500, 1000, 1500, 2000, 2500, 3000, 3500, 4000, 4500, 5000, 5500, 6000, 6500, 7000, 7500, 8000]\n",
    "ba = BlockAlignment()"
   ]
  },
  {
   "cell_type": "code",
   "execution_count": 14,
   "id": "453e20cc-b28f-4b31-930c-d7e678116e85",
   "metadata": {},
   "outputs": [
    {
     "name": "stdout",
     "output_type": "stream",
     "text": [
      "processing size:10\n",
      "processing size:50\n",
      "processing size:100\n",
      "processing size:150\n",
      "processing size:200\n",
      "processing size:250\n",
      "processing size:500\n",
      "processing size:1000\n",
      "processing size:1500\n",
      "processing size:2000\n",
      "processing size:2500\n",
      "processing size:3000\n",
      "processing size:3500\n",
      "processing size:4000\n",
      "processing size:4500\n",
      "processing size:5000\n",
      "processing size:5500\n",
      "processing size:6000\n",
      "processing size:6500\n",
      "processing size:7000\n",
      "processing size:7500\n",
      "processing size:8000\n"
     ]
    }
   ],
   "source": [
    "ba_time, ga_time = [], []\n",
    "\n",
    "for siz in size_list:\n",
    "    print(f'processing size:{siz}')\n",
    "    word1 = ''.join(random.choices(['A', 'T', 'C', 'G'], k=siz))\n",
    "    word2 = ''.join(random.choices(['A', 'T', 'C', 'G'], k=siz))\n",
    "    \n",
    "    s1, t1 = ba.block_align(word1, word2)\n",
    "    s2, t2 = global_align(word1, word2)\n",
    "    ba_time.append(t1)\n",
    "    ga_time.append(t2)"
   ]
  },
  {
   "cell_type": "code",
   "execution_count": 15,
   "id": "ad28c3ab-60b6-46ee-a1d6-0ebed4cbe784",
   "metadata": {},
   "outputs": [
    {
     "data": {
      "text/plain": [
       "([0.0,\n",
       "  0.004999876022338867,\n",
       "  0.014517545700073242,\n",
       "  0.010242938995361328,\n",
       "  0.013262510299682617,\n",
       "  0.023966073989868164,\n",
       "  0.08486104011535645,\n",
       "  0.3679039478302002,\n",
       "  0.8599371910095215,\n",
       "  1.522975206375122,\n",
       "  1.044654130935669,\n",
       "  1.365563154220581,\n",
       "  1.8821735382080078,\n",
       "  2.5956521034240723,\n",
       "  3.7364916801452637,\n",
       "  4.121069431304932,\n",
       "  4.30539870262146,\n",
       "  7.905320405960083,\n",
       "  7.1630847454071045,\n",
       "  8.958380460739136,\n",
       "  8.195007085800171,\n",
       "  14.623098373413086],\n",
       " [0.0,\n",
       "  0.002998828887939453,\n",
       "  0.015997648239135742,\n",
       "  0.03612089157104492,\n",
       "  0.046500444412231445,\n",
       "  0.09119153022766113,\n",
       "  0.37907910346984863,\n",
       "  1.481623649597168,\n",
       "  3.2650985717773438,\n",
       "  6.089939832687378,\n",
       "  9.135337829589844,\n",
       "  12.210038423538208,\n",
       "  17.395466804504395,\n",
       "  24.2003972530365,\n",
       "  30.185500860214233,\n",
       "  34.94979500770569,\n",
       "  45.85972023010254,\n",
       "  58.02724099159241,\n",
       "  66.63568186759949,\n",
       "  69.06129050254822,\n",
       "  86.71890139579773,\n",
       "  103.20996260643005])"
      ]
     },
     "execution_count": 15,
     "metadata": {},
     "output_type": "execute_result"
    }
   ],
   "source": [
    "ba_time, ga_time"
   ]
  },
  {
   "cell_type": "code",
   "execution_count": 16,
   "id": "86df7187-40a2-40bc-84d8-3379d95bcbb5",
   "metadata": {},
   "outputs": [
    {
     "data": {
      "image/png": "[encoded data removed]",
      "text/plain": [
       "<Figure size 640x480 with 1 Axes>"
      ]
     },
     "metadata": {},
     "output_type": "display_data"
    }
   ],
   "source": [
    "plt.plot(size_list, ba_time, label='Block Alignment')\n",
    "plt.plot(size_list, ga_time, label='Global Alignment')\n",
    "plt.legend()\n",
    "plt.xlabel('Length of word')\n",
    "plt.ylabel('Second')\n",
    "plt.show()"
   ]
  },
  {
   "cell_type": "code",
   "execution_count": null,
   "id": "9618fb1c-9932-4e55-a036-60b5a09947d8",
   "metadata": {},
   "outputs": [],
   "source": []
  }
 ],
 "metadata": {
  "kernelspec": {
   "display_name": "Python 3 (ipykernel)",
   "language": "python",
   "name": "python3"
  },
  "language_info": {
   "codemirror_mode": {
    "name": "ipython",
    "version": 3
   },
   "file_extension": ".py",
   "mimetype": "text/x-python",
   "name": "python",
   "nbconvert_exporter": "python",
   "pygments_lexer": "ipython3",
   "version": "3.11.4"
  }
 },
 "nbformat": 4,
 "nbformat_minor": 5
}
